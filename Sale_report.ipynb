{
  "nbformat": 4,
  "nbformat_minor": 0,
  "metadata": {
    "colab": {
      "name": "Sale report.ipynb",
      "provenance": [],
      "collapsed_sections": [],
      "toc_visible": true
    },
    "kernelspec": {
      "name": "python3",
      "display_name": "Python 3"
    },
    "language_info": {
      "name": "python"
    },
    "accelerator": "GPU"
  },
  "cells": [
    {
      "cell_type": "markdown",
      "metadata": {
        "id": "Vx5e0kjQLME_"
      },
      "source": [
        "### Clone Dữ liệu từ github\n"
      ]
    },
    {
      "cell_type": "code",
      "metadata": {
        "colab": {
          "base_uri": "https://localhost:8080/"
        },
        "id": "6cFfQMFCLQGn",
        "outputId": "e7e9ea73-521a-4ab5-b32a-d8d4a64d6d5b"
      },
      "source": [
        "!git clone https://github.com/lvphu95/Sale-Report.git"
      ],
      "execution_count": 1,
      "outputs": [
        {
          "output_type": "stream",
          "text": [
            "Cloning into 'Sale-Report'...\n",
            "remote: Enumerating objects: 16, done.\u001b[K\n",
            "remote: Counting objects: 100% (16/16), done.\u001b[K\n",
            "remote: Compressing objects: 100% (4/4), done.\u001b[K\n",
            "remote: Total 16 (delta 11), reused 16 (delta 11), pack-reused 0\u001b[K\n",
            "Unpacking objects: 100% (16/16), done.\n"
          ],
          "name": "stdout"
        }
      ]
    },
    {
      "cell_type": "code",
      "metadata": {
        "colab": {
          "base_uri": "https://localhost:8080/"
        },
        "id": "FGP40vrgLW8j",
        "outputId": "f575b958-16cd-4a85-fc01-0caa8063a1ab"
      },
      "source": [
        "cd /content/Sale-Report/data"
      ],
      "execution_count": 2,
      "outputs": [
        {
          "output_type": "stream",
          "text": [
            "/content/Sale-Report/data\n"
          ],
          "name": "stdout"
        }
      ]
    },
    {
      "cell_type": "markdown",
      "metadata": {
        "id": "IfGN2vCjLbJ1"
      },
      "source": [
        "### Thêm các thư viện cần thiết"
      ]
    },
    {
      "cell_type": "code",
      "metadata": {
        "id": "L5igCiWSLeTl"
      },
      "source": [
        "import pandas as pd\n",
        "import numpy as np\n",
        "import matplotlib.pyplot as plt\n",
        "import os"
      ],
      "execution_count": 30,
      "outputs": []
    },
    {
      "cell_type": "markdown",
      "metadata": {
        "id": "U6tOv1gWLny_"
      },
      "source": [
        "### Load dữ liệu vào chương trình và merge dữ liệu 12 tháng lại"
      ]
    },
    {
      "cell_type": "markdown",
      "metadata": {
        "id": "SAvHg2TTPndq"
      },
      "source": [
        "Kiểm tra danh sách các file trong thư mục data\n",
        "\n"
      ]
    },
    {
      "cell_type": "code",
      "metadata": {
        "colab": {
          "base_uri": "https://localhost:8080/"
        },
        "id": "vtJ-y3STPrXN",
        "outputId": "f2cbd4d6-0763-46e5-a56b-f1527404cc12"
      },
      "source": [
        "files = './'\n",
        "os.listdir(files)"
      ],
      "execution_count": 31,
      "outputs": [
        {
          "output_type": "execute_result",
          "data": {
            "text/plain": [
              "['sales2019_6.csv',\n",
              " 'sales2019_10.csv',\n",
              " 'sales2019_7.csv',\n",
              " 'sales2019_3.csv',\n",
              " 'sales2019_9.csv',\n",
              " 'sales2019_2.csv',\n",
              " 'sales2019_12.csv',\n",
              " 'sales2019_8.csv',\n",
              " 'sales2019_4.csv',\n",
              " 'sales2019_11.csv',\n",
              " '.DS_Store',\n",
              " 'sales2019_5.csv',\n",
              " 'sales2019_1.csv']"
            ]
          },
          "metadata": {
            "tags": []
          },
          "execution_count": 31
        }
      ]
    },
    {
      "cell_type": "markdown",
      "metadata": {
        "id": "1TN7UJJqPvcg"
      },
      "source": [
        "Merge dữ liệu file csv của 12 tháng lại"
      ]
    },
    {
      "cell_type": "code",
      "metadata": {
        "id": "SX0malXfLqt5"
      },
      "source": [
        "data = []\n",
        "for file in os.listdir(files):\n",
        "  if file != '.DS_Store':\n",
        "    data.append(pd.read_csv(file))\n",
        "\n",
        "#Merge dữ liệu và lưu vào biến df\n",
        "df = pd.concat(data)\n"
      ],
      "execution_count": 36,
      "outputs": []
    },
    {
      "cell_type": "markdown",
      "metadata": {
        "id": "_IMdWqGOQJ48"
      },
      "source": [
        "Kiểm tra trường dữ liệu, thông tin chung của dữ liệu"
      ]
    },
    {
      "cell_type": "code",
      "metadata": {
        "colab": {
          "base_uri": "https://localhost:8080/",
          "height": 306
        },
        "id": "9HutB2fUPDQk",
        "outputId": "42c9e4f8-45eb-4b7b-a96d-8bf5798a44bc"
      },
      "source": [
        "df.head()"
      ],
      "execution_count": 37,
      "outputs": [
        {
          "output_type": "execute_result",
          "data": {
            "text/html": [
              "<div>\n",
              "<style scoped>\n",
              "    .dataframe tbody tr th:only-of-type {\n",
              "        vertical-align: middle;\n",
              "    }\n",
              "\n",
              "    .dataframe tbody tr th {\n",
              "        vertical-align: top;\n",
              "    }\n",
              "\n",
              "    .dataframe thead th {\n",
              "        text-align: right;\n",
              "    }\n",
              "</style>\n",
              "<table border=\"1\" class=\"dataframe\">\n",
              "  <thead>\n",
              "    <tr style=\"text-align: right;\">\n",
              "      <th></th>\n",
              "      <th>Order ID</th>\n",
              "      <th>Product</th>\n",
              "      <th>Quantity Ordered</th>\n",
              "      <th>Price Each</th>\n",
              "      <th>Order Date</th>\n",
              "      <th>Purchase Address</th>\n",
              "    </tr>\n",
              "  </thead>\n",
              "  <tbody>\n",
              "    <tr>\n",
              "      <th>0</th>\n",
              "      <td>209921</td>\n",
              "      <td>USB-C Charging Cable</td>\n",
              "      <td>1</td>\n",
              "      <td>11.95</td>\n",
              "      <td>06/23/19 19:34</td>\n",
              "      <td>950 Walnut St, Portland, ME 04101</td>\n",
              "    </tr>\n",
              "    <tr>\n",
              "      <th>1</th>\n",
              "      <td>209922</td>\n",
              "      <td>Macbook Pro Laptop</td>\n",
              "      <td>1</td>\n",
              "      <td>1700.0</td>\n",
              "      <td>06/30/19 10:05</td>\n",
              "      <td>80 4th St, San Francisco, CA 94016</td>\n",
              "    </tr>\n",
              "    <tr>\n",
              "      <th>2</th>\n",
              "      <td>209923</td>\n",
              "      <td>ThinkPad Laptop</td>\n",
              "      <td>1</td>\n",
              "      <td>999.99</td>\n",
              "      <td>06/24/19 20:18</td>\n",
              "      <td>402 Jackson St, Los Angeles, CA 90001</td>\n",
              "    </tr>\n",
              "    <tr>\n",
              "      <th>3</th>\n",
              "      <td>209924</td>\n",
              "      <td>27in FHD Monitor</td>\n",
              "      <td>1</td>\n",
              "      <td>149.99</td>\n",
              "      <td>06/05/19 10:21</td>\n",
              "      <td>560 10th St, Seattle, WA 98101</td>\n",
              "    </tr>\n",
              "    <tr>\n",
              "      <th>4</th>\n",
              "      <td>209925</td>\n",
              "      <td>Bose SoundSport Headphones</td>\n",
              "      <td>1</td>\n",
              "      <td>99.99</td>\n",
              "      <td>06/25/19 18:58</td>\n",
              "      <td>545 2nd St, San Francisco, CA 94016</td>\n",
              "    </tr>\n",
              "  </tbody>\n",
              "</table>\n",
              "</div>"
            ],
            "text/plain": [
              "  Order ID  ...                       Purchase Address\n",
              "0   209921  ...      950 Walnut St, Portland, ME 04101\n",
              "1   209922  ...     80 4th St, San Francisco, CA 94016\n",
              "2   209923  ...  402 Jackson St, Los Angeles, CA 90001\n",
              "3   209924  ...         560 10th St, Seattle, WA 98101\n",
              "4   209925  ...    545 2nd St, San Francisco, CA 94016\n",
              "\n",
              "[5 rows x 6 columns]"
            ]
          },
          "metadata": {
            "tags": []
          },
          "execution_count": 37
        }
      ]
    },
    {
      "cell_type": "code",
      "metadata": {
        "colab": {
          "base_uri": "https://localhost:8080/"
        },
        "id": "FhPx_2zpR-Fk",
        "outputId": "f6bd18c0-2f60-4943-a9a0-4e5c1c055848"
      },
      "source": [
        "df.info()"
      ],
      "execution_count": 41,
      "outputs": [
        {
          "output_type": "stream",
          "text": [
            "<class 'pandas.core.frame.DataFrame'>\n",
            "Int64Index: 186850 entries, 0 to 9722\n",
            "Data columns (total 7 columns):\n",
            " #   Column            Non-Null Count   Dtype \n",
            "---  ------            --------------   ----- \n",
            " 0   Order ID          186305 non-null  object\n",
            " 1   Product           186305 non-null  object\n",
            " 2   Quantity Ordered  186305 non-null  object\n",
            " 3   Price Each        186305 non-null  object\n",
            " 4   Order Date        186305 non-null  object\n",
            " 5   Purchase Address  186305 non-null  object\n",
            " 6   Month             186305 non-null  object\n",
            "dtypes: object(7)\n",
            "memory usage: 11.4+ MB\n"
          ],
          "name": "stdout"
        }
      ]
    },
    {
      "cell_type": "code",
      "metadata": {
        "colab": {
          "base_uri": "https://localhost:8080/"
        },
        "id": "wAAXi6ZiSAFq",
        "outputId": "9044f33d-eb09-49af-d30b-06a89b72fb3a"
      },
      "source": [
        "df.isna().sum()\n",
        "#Có 545 dòng dữ liệu bị Nan"
      ],
      "execution_count": 42,
      "outputs": [
        {
          "output_type": "execute_result",
          "data": {
            "text/plain": [
              "Order ID            545\n",
              "Product             545\n",
              "Quantity Ordered    545\n",
              "Price Each          545\n",
              "Order Date          545\n",
              "Purchase Address    545\n",
              "Month               545\n",
              "dtype: int64"
            ]
          },
          "metadata": {
            "tags": []
          },
          "execution_count": 42
        }
      ]
    },
    {
      "cell_type": "markdown",
      "metadata": {
        "id": "d0kXsu68Q7rs"
      },
      "source": [
        "# Trả lời các câu hỏi của báo cáo"
      ]
    },
    {
      "cell_type": "markdown",
      "metadata": {
        "id": "0Pll8rnvRFAm"
      },
      "source": [
        "### 1. Tháng nào có doanh số lớn nhất và doanh số tháng đó là bao nhiêu\n",
        "Bổ sung thêm cột Month vào dữ liệu"
      ]
    },
    {
      "cell_type": "code",
      "metadata": {
        "id": "wSFyTcUARLK7"
      },
      "source": [
        "df['Month'] = df['Order Date'].str[:2]"
      ],
      "execution_count": 62,
      "outputs": []
    },
    {
      "cell_type": "markdown",
      "metadata": {
        "id": "FdhwYGNnU07C"
      },
      "source": [
        "Convert dữ liệu cột Quantity Ordered và Price Each sang dạng số và thêm cột Sale vào dữ liệu\n",
        "\n",
        "\n"
      ]
    },
    {
      "cell_type": "code",
      "metadata": {
        "id": "keKCQixpVAaX"
      },
      "source": [
        "df['Quantity Ordered'] = pd.to_numeric(df['Quantity Ordered'], downcast = 'integer')\n",
        "df['Price Each'] = pd.to_numeric(df['Price Each'], downcast = 'float')\n",
        "df['Sale'] = df['Quantity Ordered'] * df['Price Each']"
      ],
      "execution_count": 67,
      "outputs": []
    },
    {
      "cell_type": "code",
      "metadata": {
        "colab": {
          "base_uri": "https://localhost:8080/",
          "height": 306
        },
        "id": "8ohGUUEKRmSg",
        "outputId": "aa4bc820-7b71-43c2-fc8c-77921d0d6a21"
      },
      "source": [
        "df.head()"
      ],
      "execution_count": 68,
      "outputs": [
        {
          "output_type": "execute_result",
          "data": {
            "text/html": [
              "<div>\n",
              "<style scoped>\n",
              "    .dataframe tbody tr th:only-of-type {\n",
              "        vertical-align: middle;\n",
              "    }\n",
              "\n",
              "    .dataframe tbody tr th {\n",
              "        vertical-align: top;\n",
              "    }\n",
              "\n",
              "    .dataframe thead th {\n",
              "        text-align: right;\n",
              "    }\n",
              "</style>\n",
              "<table border=\"1\" class=\"dataframe\">\n",
              "  <thead>\n",
              "    <tr style=\"text-align: right;\">\n",
              "      <th></th>\n",
              "      <th>Order ID</th>\n",
              "      <th>Product</th>\n",
              "      <th>Quantity Ordered</th>\n",
              "      <th>Price Each</th>\n",
              "      <th>Order Date</th>\n",
              "      <th>Purchase Address</th>\n",
              "      <th>Month</th>\n",
              "      <th>Sale</th>\n",
              "    </tr>\n",
              "  </thead>\n",
              "  <tbody>\n",
              "    <tr>\n",
              "      <th>0</th>\n",
              "      <td>209921</td>\n",
              "      <td>USB-C Charging Cable</td>\n",
              "      <td>1</td>\n",
              "      <td>11.950000</td>\n",
              "      <td>06/23/19 19:34</td>\n",
              "      <td>950 Walnut St, Portland, ME 04101</td>\n",
              "      <td>06</td>\n",
              "      <td>11.950000</td>\n",
              "    </tr>\n",
              "    <tr>\n",
              "      <th>1</th>\n",
              "      <td>209922</td>\n",
              "      <td>Macbook Pro Laptop</td>\n",
              "      <td>1</td>\n",
              "      <td>1700.000000</td>\n",
              "      <td>06/30/19 10:05</td>\n",
              "      <td>80 4th St, San Francisco, CA 94016</td>\n",
              "      <td>06</td>\n",
              "      <td>1700.000000</td>\n",
              "    </tr>\n",
              "    <tr>\n",
              "      <th>2</th>\n",
              "      <td>209923</td>\n",
              "      <td>ThinkPad Laptop</td>\n",
              "      <td>1</td>\n",
              "      <td>999.989990</td>\n",
              "      <td>06/24/19 20:18</td>\n",
              "      <td>402 Jackson St, Los Angeles, CA 90001</td>\n",
              "      <td>06</td>\n",
              "      <td>999.989990</td>\n",
              "    </tr>\n",
              "    <tr>\n",
              "      <th>3</th>\n",
              "      <td>209924</td>\n",
              "      <td>27in FHD Monitor</td>\n",
              "      <td>1</td>\n",
              "      <td>149.990005</td>\n",
              "      <td>06/05/19 10:21</td>\n",
              "      <td>560 10th St, Seattle, WA 98101</td>\n",
              "      <td>06</td>\n",
              "      <td>149.990005</td>\n",
              "    </tr>\n",
              "    <tr>\n",
              "      <th>4</th>\n",
              "      <td>209925</td>\n",
              "      <td>Bose SoundSport Headphones</td>\n",
              "      <td>1</td>\n",
              "      <td>99.989998</td>\n",
              "      <td>06/25/19 18:58</td>\n",
              "      <td>545 2nd St, San Francisco, CA 94016</td>\n",
              "      <td>06</td>\n",
              "      <td>99.989998</td>\n",
              "    </tr>\n",
              "  </tbody>\n",
              "</table>\n",
              "</div>"
            ],
            "text/plain": [
              "  Order ID                     Product  ...  Month         Sale\n",
              "0   209921        USB-C Charging Cable  ...     06    11.950000\n",
              "1   209922          Macbook Pro Laptop  ...     06  1700.000000\n",
              "2   209923             ThinkPad Laptop  ...     06   999.989990\n",
              "3   209924            27in FHD Monitor  ...     06   149.990005\n",
              "4   209925  Bose SoundSport Headphones  ...     06    99.989998\n",
              "\n",
              "[5 rows x 8 columns]"
            ]
          },
          "metadata": {
            "tags": []
          },
          "execution_count": 68
        }
      ]
    },
    {
      "cell_type": "markdown",
      "metadata": {
        "id": "jBk6BQLfS5VA"
      },
      "source": [
        "Kiểm tra dữ liệu trong cột Month"
      ]
    },
    {
      "cell_type": "code",
      "metadata": {
        "colab": {
          "base_uri": "https://localhost:8080/"
        },
        "id": "oVdLyyloSM35",
        "outputId": "0baaa1fd-d4d1-4733-937d-c76caafc7b98"
      },
      "source": [
        "print(set(df['Month']))"
      ],
      "execution_count": 69,
      "outputs": [
        {
          "output_type": "stream",
          "text": [
            "{'12', '10', '08', '11', '07', '09', '01', '04', '02', '05', '06', '03'}\n"
          ],
          "name": "stdout"
        }
      ]
    },
    {
      "cell_type": "markdown",
      "metadata": {
        "id": "1kHN4_VzTG4T"
      },
      "source": [
        "Loại bỏ dữ liệu bị nan và Or"
      ]
    },
    {
      "cell_type": "code",
      "metadata": {
        "id": "6OIFoojOTKhC"
      },
      "source": [
        "df.dropna(how='all', inplace=True)\n",
        "df = df[df['Month'] != 'Or']"
      ],
      "execution_count": 70,
      "outputs": []
    },
    {
      "cell_type": "code",
      "metadata": {
        "colab": {
          "base_uri": "https://localhost:8080/"
        },
        "id": "nIARHBxjTPNY",
        "outputId": "4d282cae-eff7-42eb-b677-1125338806a3"
      },
      "source": [
        "print(set(df['Month']))"
      ],
      "execution_count": 71,
      "outputs": [
        {
          "output_type": "stream",
          "text": [
            "{'12', '10', '08', '11', '07', '09', '01', '04', '02', '05', '06', '03'}\n"
          ],
          "name": "stdout"
        }
      ]
    },
    {
      "cell_type": "markdown",
      "metadata": {
        "id": "WPxqvunVTnHr"
      },
      "source": [
        "Nhóm các dữ liệu theo tháng"
      ]
    },
    {
      "cell_type": "code",
      "metadata": {
        "colab": {
          "base_uri": "https://localhost:8080/"
        },
        "id": "Kz3PF12-Tp5_",
        "outputId": "07ae5ce6-00f6-4e43-cde0-9b887660de1d"
      },
      "source": [
        "saleEachMonth = df.groupby(by = 'Month').sum()['Sale']\n",
        "saleEachMonth"
      ],
      "execution_count": 117,
      "outputs": [
        {
          "output_type": "execute_result",
          "data": {
            "text/plain": [
              "Month\n",
              "01    1822256.75\n",
              "02    2202022.50\n",
              "03    2807100.25\n",
              "04    3390670.25\n",
              "05    3152606.75\n",
              "06    2577802.25\n",
              "07    2647775.75\n",
              "08    2244467.75\n",
              "09    2097560.00\n",
              "10    3736726.75\n",
              "11    3199603.25\n",
              "12    4613443.50\n",
              "Name: Sale, dtype: float32"
            ]
          },
          "metadata": {
            "tags": []
          },
          "execution_count": 117
        }
      ]
    },
    {
      "cell_type": "markdown",
      "metadata": {
        "id": "fEpiObosXaRW"
      },
      "source": [
        "Lọc ra dữ liệu tháng có doanh số cao nhất và doanh số tháng đó"
      ]
    },
    {
      "cell_type": "code",
      "metadata": {
        "id": "6cG1T1uuZ-LQ"
      },
      "source": [
        "maxMonth = saleEachMonth[saleEachMonth == saleEachMonth.max()]"
      ],
      "execution_count": 118,
      "outputs": []
    },
    {
      "cell_type": "code",
      "metadata": {
        "colab": {
          "base_uri": "https://localhost:8080/"
        },
        "id": "G1kSCa12TuJb",
        "outputId": "3faa6fa9-a2c3-46b1-fbb8-93b7cc129fd7"
      },
      "source": [
        "print('Câu trả lời của câu hỏi 1: ')\n",
        "print('Tháng có doanh số cao nhất là {}, Doanh số của tháng đó là {}'.format(maxMonth.index[0], saleEachMonth.max()))"
      ],
      "execution_count": 119,
      "outputs": [
        {
          "output_type": "stream",
          "text": [
            "Câu trả lời của câu hỏi 1: \n",
            "Tháng có doanh số cao nhất là 12, Doanh số của tháng đó là 4613443.5\n"
          ],
          "name": "stdout"
        }
      ]
    },
    {
      "cell_type": "markdown",
      "metadata": {
        "id": "7samCV06a6NZ"
      },
      "source": [
        "Hiển thị doanh số theo các tháng"
      ]
    },
    {
      "cell_type": "code",
      "metadata": {
        "colab": {
          "base_uri": "https://localhost:8080/",
          "height": 516
        },
        "id": "Tjx8leSva712",
        "outputId": "c0dd1c9b-0bef-4e9a-9edc-2aa015a14c69"
      },
      "source": [
        "saleEachMonth.plot(kind = 'bar', ylabel = 'Sale', title = 'Sale theo tung thang', figsize = (12,8))\n",
        "plt.show()"
      ],
      "execution_count": 125,
      "outputs": [
        {
          "output_type": "display_data",
          "data": {
            "image/png": "[encoded data removed]",
            "text/plain": [
              "<Figure size 864x576 with 1 Axes>"
            ]
          },
          "metadata": {
            "tags": [],
            "needs_background": "light"
          }
        }
      ]
    },
    {
      "cell_type": "code",
      "metadata": {
        "id": "C8j81og_gK4p"
      },
      "source": [
        ""
      ],
      "execution_count": null,
      "outputs": []
    }
  ]
}